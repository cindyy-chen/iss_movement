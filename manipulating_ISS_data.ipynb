{
  "cells": [
    {
      "cell_type": "markdown",
      "metadata": {
        "id": "view-in-github",
        "colab_type": "text"
      },
      "source": [
        "<a href=\"https://colab.research.google.com/github/cindyy-chen/iss_movement/blob/main/manipulating_ISS_data.ipynb\" target=\"_parent\"><img src=\"https://colab.research.google.com/assets/colab-badge.svg\" alt=\"Open In Colab\"/></a>"
      ]
    },
    {
      "cell_type": "markdown",
      "id": "e9856c2b-9d93-45b8-a0ae-456b44b2b179",
      "metadata": {
        "id": "e9856c2b-9d93-45b8-a0ae-456b44b2b179"
      },
      "source": [
        "# Analysis of the ISS Movement"
      ]
    },
    {
      "cell_type": "markdown",
      "id": "63ca570b-8bec-4a3e-9eff-57329b87ec76",
      "metadata": {
        "id": "63ca570b-8bec-4a3e-9eff-57329b87ec76"
      },
      "source": [
        "## Required packages\n",
        "- Matplotlib\n",
        "- NumPy\n",
        "- Pandas\n",
        "- Cartopy (might not be needed at the end)\n",
        "- Shapely\n",
        "- GeoPandas\n",
        "- MovingPandas\n",
        "- HoloViews\n",
        "- hvplot"
      ]
    },
    {
      "cell_type": "code",
      "execution_count": null,
      "id": "99b55e87-37b1-4f12-8ec0-ce33cf9bdfa2",
      "metadata": {
        "id": "99b55e87-37b1-4f12-8ec0-ce33cf9bdfa2"
      },
      "outputs": [],
      "source": [
        "import warnings\n",
        "warnings.filterwarnings(\"ignore\")"
      ]
    },
    {
      "cell_type": "code",
      "execution_count": null,
      "id": "186a40f0-0329-4da3-b981-facf0ef3d9d2",
      "metadata": {
        "id": "186a40f0-0329-4da3-b981-facf0ef3d9d2"
      },
      "outputs": [],
      "source": [
        "import os\n",
        "from pathlib import Path\n",
        "import datetime as dt"
      ]
    },
    {
      "cell_type": "code",
      "execution_count": null,
      "id": "6e2165b5-e61f-4de3-97d7-479b4f3b2e8f",
      "metadata": {
        "id": "6e2165b5-e61f-4de3-97d7-479b4f3b2e8f"
      },
      "outputs": [],
      "source": [
        "%matplotlib inline\n",
        "import matplotlib\n",
        "import matplotlib.pyplot as plt\n",
        "import matplotlib.ticker as mticker"
      ]
    },
    {
      "cell_type": "code",
      "execution_count": null,
      "id": "5577ec87-bf5d-4d40-97fb-eb24266ad61f",
      "metadata": {
        "id": "5577ec87-bf5d-4d40-97fb-eb24266ad61f"
      },
      "outputs": [],
      "source": [
        "import cartopy\n",
        "import cartopy.crs as ccrs"
      ]
    },
    {
      "cell_type": "code",
      "execution_count": null,
      "id": "f483ec77-30f7-4f27-bbdb-a49ac63d393e",
      "metadata": {
        "id": "f483ec77-30f7-4f27-bbdb-a49ac63d393e"
      },
      "outputs": [],
      "source": [
        "from shapely import geometry as shpgeom\n",
        "from shapely import wkt as shpwkt"
      ]
    },
    {
      "cell_type": "code",
      "execution_count": null,
      "id": "726a60ab-b4e4-4a15-a01b-7ae1e101d5a5",
      "metadata": {
        "id": "726a60ab-b4e4-4a15-a01b-7ae1e101d5a5"
      },
      "outputs": [],
      "source": [
        "import numpy as np\n",
        "import pandas as pd\n",
        "import geopandas as gpd\n",
        "import movingpandas as mpd"
      ]
    },
    {
      "cell_type": "code",
      "execution_count": null,
      "id": "f7ce6c0e-fafb-41a2-9239-c3b71ceca1e5",
      "metadata": {
        "id": "f7ce6c0e-fafb-41a2-9239-c3b71ceca1e5"
      },
      "outputs": [],
      "source": [
        "import holoviews as hv\n",
        "import hvplot.pandas"
      ]
    },
    {
      "cell_type": "code",
      "execution_count": null,
      "id": "3198d391-5f96-4054-9550-45fa80946960",
      "metadata": {
        "id": "3198d391-5f96-4054-9550-45fa80946960"
      },
      "outputs": [],
      "source": [
        "plot_defaults = {'linewidth':5, 'capstyle':'round', 'figsize':(9,3), 'legend':True}\n",
        "hv.opts.defaults(hv.opts.Overlay(active_tools=['wheel_zoom'],\n",
        "                                 frame_width=500, frame_height=400))\n",
        "hvplot_defaults = {'tiles':None, 'cmap':'Viridis', 'colorbar':True}"
      ]
    },
    {
      "cell_type": "code",
      "execution_count": null,
      "id": "e6261aff-5e87-4e93-8800-43aca22d08e4",
      "metadata": {
        "id": "e6261aff-5e87-4e93-8800-43aca22d08e4"
      },
      "outputs": [],
      "source": [
        "mpd.show_versions()"
      ]
    },
    {
      "cell_type": "markdown",
      "id": "d23084f2-b780-496b-aab2-ac511a4e0983",
      "metadata": {
        "id": "d23084f2-b780-496b-aab2-ac511a4e0983"
      },
      "source": [
        "## Step 1: Read the CSV File"
      ]
    },
    {
      "cell_type": "code",
      "execution_count": null,
      "id": "eb34d46e-d286-44d2-915c-c1894e4a2615",
      "metadata": {
        "id": "eb34d46e-d286-44d2-915c-c1894e4a2615"
      },
      "outputs": [],
      "source": [
        "file_name = \"iss_timeseries_trajectories_20240211_165733.csv\""
      ]
    },
    {
      "cell_type": "code",
      "execution_count": null,
      "id": "29f7e3b3-8e05-45f1-bfbc-a3d8c4d8aa9d",
      "metadata": {
        "id": "29f7e3b3-8e05-45f1-bfbc-a3d8c4d8aa9d"
      },
      "outputs": [],
      "source": [
        "df = pd.read_csv(file_name)"
      ]
    },
    {
      "cell_type": "code",
      "execution_count": null,
      "id": "b8d94563-f4ee-4664-8336-cad70be359c5",
      "metadata": {
        "id": "b8d94563-f4ee-4664-8336-cad70be359c5"
      },
      "outputs": [],
      "source": [
        "df"
      ]
    },
    {
      "cell_type": "code",
      "execution_count": null,
      "id": "03e83124-43c9-46ec-877d-b1d2e2e2af0d",
      "metadata": {
        "id": "03e83124-43c9-46ec-877d-b1d2e2e2af0d"
      },
      "outputs": [],
      "source": [
        "df.info()"
      ]
    },
    {
      "cell_type": "markdown",
      "id": "d9b180cd-d418-4683-b9c5-6b4ae87566ef",
      "metadata": {
        "id": "d9b180cd-d418-4683-b9c5-6b4ae87566ef"
      },
      "source": [
        "Note that the column `t` has string as data type. We want it to be a datetime object."
      ]
    },
    {
      "cell_type": "markdown",
      "id": "7ab95eca-0109-4ffe-9dc5-54ef30b656bb",
      "metadata": {
        "id": "7ab95eca-0109-4ffe-9dc5-54ef30b656bb"
      },
      "source": [
        "## Step 2: Perform Conversions"
      ]
    },
    {
      "cell_type": "markdown",
      "id": "c4d251dd-0199-4082-b8c4-0cc0dde28115",
      "metadata": {
        "id": "c4d251dd-0199-4082-b8c4-0cc0dde28115"
      },
      "source": [
        "#### Convert the `t` column into a datetime object"
      ]
    },
    {
      "cell_type": "code",
      "execution_count": null,
      "id": "8ed60430-4223-4add-b945-deda96f0273a",
      "metadata": {
        "id": "8ed60430-4223-4add-b945-deda96f0273a"
      },
      "outputs": [],
      "source": [
        "df['t'] = pd.to_datetime(df['t'], format='%Y-%m-%d %H:%M:%S')"
      ]
    },
    {
      "cell_type": "markdown",
      "id": "71aaf0fe-f710-426b-a7a6-4d993a5a4fdd",
      "metadata": {
        "id": "71aaf0fe-f710-426b-a7a6-4d993a5a4fdd"
      },
      "source": [
        "Make the `t` column as index"
      ]
    },
    {
      "cell_type": "code",
      "execution_count": null,
      "id": "0c42b569-1335-4f06-a1cf-4ee6cf1b7a97",
      "metadata": {
        "id": "0c42b569-1335-4f06-a1cf-4ee6cf1b7a97"
      },
      "outputs": [],
      "source": [
        "df.set_index('t', inplace=True)"
      ]
    },
    {
      "cell_type": "code",
      "execution_count": null,
      "id": "3ff0afaf-01d3-4dcb-afa1-0b2c5b7a95f2",
      "metadata": {
        "id": "3ff0afaf-01d3-4dcb-afa1-0b2c5b7a95f2"
      },
      "outputs": [],
      "source": [
        "df.head(4)"
      ]
    },
    {
      "cell_type": "markdown",
      "id": "be3c6891-e867-420e-be3d-b141901f0349",
      "metadata": {
        "id": "be3c6891-e867-420e-be3d-b141901f0349"
      },
      "source": [
        "#### Count the number of locations that are on land:\n",
        "- `land_flag` is `True` for land and `False` otherwise (ocean)."
      ]
    },
    {
      "cell_type": "code",
      "execution_count": null,
      "id": "404a404a-8f3d-4a17-b6fc-feb5493469b3",
      "metadata": {
        "id": "404a404a-8f3d-4a17-b6fc-feb5493469b3"
      },
      "outputs": [],
      "source": [
        "df.land_flag.sum()"
      ]
    },
    {
      "cell_type": "markdown",
      "id": "8b853bc7-e08c-482a-ad6b-4b848a462c71",
      "metadata": {
        "id": "8b853bc7-e08c-482a-ad6b-4b848a462c71"
      },
      "source": [
        "#### Convert the positions (latitude and longitude) into `Shapely` POINT objects:\n",
        "- Add a `geometry` column"
      ]
    },
    {
      "cell_type": "code",
      "execution_count": null,
      "id": "bc5774ff-0061-4a90-89ec-5153e6464645",
      "metadata": {
        "id": "bc5774ff-0061-4a90-89ec-5153e6464645"
      },
      "outputs": [],
      "source": [
        "df['geometry'] = [shpgeom.Point(xy) for xy in zip(df['longitude'], df['latitude'])]\n",
        "df"
      ]
    },
    {
      "cell_type": "code",
      "execution_count": null,
      "id": "8cad007c-1c18-4dfe-8b6a-8840d7447c32",
      "metadata": {
        "id": "8cad007c-1c18-4dfe-8b6a-8840d7447c32"
      },
      "outputs": [],
      "source": [
        "df.info()"
      ]
    },
    {
      "cell_type": "code",
      "execution_count": null,
      "id": "ae679cb2-bcaa-40ee-a907-ac7ff700d978",
      "metadata": {
        "id": "ae679cb2-bcaa-40ee-a907-ac7ff700d978"
      },
      "outputs": [],
      "source": [
        "df.head(4)"
      ]
    },
    {
      "cell_type": "markdown",
      "id": "cab45c40-a8f6-4e2e-be1f-f47c384c799b",
      "metadata": {
        "id": "cab45c40-a8f6-4e2e-be1f-f47c384c799b"
      },
      "source": [
        "## Step 3: Manipulation with GeoPandas"
      ]
    },
    {
      "cell_type": "markdown",
      "id": "8beff17e-83aa-4c61-aabe-04772915d9c3",
      "metadata": {
        "id": "8beff17e-83aa-4c61-aabe-04772915d9c3"
      },
      "source": [
        "#### Create a GeoDataFrame"
      ]
    },
    {
      "cell_type": "code",
      "execution_count": null,
      "id": "a84142f7-d4ce-4951-b82e-125c8e22b1bf",
      "metadata": {
        "id": "a84142f7-d4ce-4951-b82e-125c8e22b1bf"
      },
      "outputs": [],
      "source": [
        "iss_gdf = gpd.GeoDataFrame(df, geometry=\"geometry\")\n",
        "iss_gdf"
      ]
    },
    {
      "cell_type": "markdown",
      "id": "9cbfe2db-3cb3-45ab-ae26-13bd079c3103",
      "metadata": {
        "id": "9cbfe2db-3cb3-45ab-ae26-13bd079c3103"
      },
      "source": [
        "#### Quick plot"
      ]
    },
    {
      "cell_type": "code",
      "execution_count": null,
      "id": "ab3a5d09-01f7-46e7-98aa-710bbe9a3d77",
      "metadata": {
        "id": "ab3a5d09-01f7-46e7-98aa-710bbe9a3d77"
      },
      "outputs": [],
      "source": [
        "iss_gdf.plot()"
      ]
    },
    {
      "cell_type": "code",
      "execution_count": null,
      "id": "faabc7a5-205f-42bc-8bec-40b226217172",
      "metadata": {
        "id": "faabc7a5-205f-42bc-8bec-40b226217172"
      },
      "outputs": [],
      "source": [
        "fig, ax = plt.subplots(1, 1, subplot_kw={'projection': ccrs.PlateCarree()})\n",
        "fig.set_size_inches(10, 10)\n",
        "iss_gdf.plot(\n",
        "    ax=ax\n",
        ")\n",
        "\n",
        "ax.coastlines()\n",
        "plt.title('Movement of ISS', fontsize = 14);"
      ]
    },
    {
      "cell_type": "markdown",
      "id": "1f6e48cd-ded3-4680-bd68-9a9d7d7dcac3",
      "metadata": {
        "id": "1f6e48cd-ded3-4680-bd68-9a9d7d7dcac3"
      },
      "source": [
        "#### Plot by country crossed using Cartopy"
      ]
    },
    {
      "cell_type": "code",
      "execution_count": null,
      "id": "047c1d63-61ee-4c52-8fb7-09e6a620d0ed",
      "metadata": {
        "id": "047c1d63-61ee-4c52-8fb7-09e6a620d0ed"
      },
      "outputs": [],
      "source": [
        "fig, ax = plt.subplots(1, 1, subplot_kw={'projection': ccrs.PlateCarree()})\n",
        "fig.set_size_inches(10, 10)\n",
        "iss_gdf.plot(\"country\", ax=ax)\n",
        "\n",
        "ax.coastlines()\n",
        "ax.set_global()\n",
        "plt.title('Movement of ISS by Country', fontsize = 14);"
      ]
    },
    {
      "cell_type": "code",
      "execution_count": null,
      "id": "e2f53306-2639-4cb4-80ed-e0ffce0bfdbf",
      "metadata": {
        "id": "e2f53306-2639-4cb4-80ed-e0ffce0bfdbf"
      },
      "outputs": [],
      "source": [
        "fig, ax = plt.subplots(1, 1, subplot_kw={'projection': ccrs.PlateCarree()})\n",
        "fig.set_size_inches(10, 10)\n",
        "iss_gdf[iss_gdf.land_flag==True].plot(\"country\", ax=ax)\n",
        "\n",
        "ax.add_feature(cartopy.feature.BORDERS, linestyle=':')\n",
        "ax.coastlines()\n",
        "ax.set_global()\n",
        "plt.title('Movement of ISS by Country', fontsize = 14);"
      ]
    },
    {
      "cell_type": "markdown",
      "id": "f58b4e3e-b521-4119-a80a-f4584655971a",
      "metadata": {
        "id": "f58b4e3e-b521-4119-a80a-f4584655971a"
      },
      "source": [
        "#### Plot by country crossed using the Natural Earth Database background image"
      ]
    },
    {
      "cell_type": "code",
      "execution_count": null,
      "id": "2dd8acb8-6a5b-4d19-af10-36b5275cd4da",
      "metadata": {
        "id": "2dd8acb8-6a5b-4d19-af10-36b5275cd4da"
      },
      "outputs": [],
      "source": [
        "world = gpd.read_file(gpd.datasets.get_path(\"naturalearth_lowres\"))"
      ]
    },
    {
      "cell_type": "code",
      "execution_count": null,
      "id": "e35fb9b8-020b-4e34-bb1e-79ecee2d2fac",
      "metadata": {
        "id": "e35fb9b8-020b-4e34-bb1e-79ecee2d2fac"
      },
      "outputs": [],
      "source": [
        "fig, ax = plt.subplots(1, figsize=(20,10))\n",
        "base = world.plot(ax=ax, color='white', edgecolor='black',)"
      ]
    },
    {
      "cell_type": "code",
      "execution_count": null,
      "id": "c99a3d07-fcc7-4337-99cc-e4678f699dcd",
      "metadata": {
        "id": "c99a3d07-fcc7-4337-99cc-e4678f699dcd"
      },
      "outputs": [],
      "source": [
        "fig, ax = plt.subplots(1, figsize=(20,10))\n",
        "base = world.plot(ax=ax, color='white', edgecolor='black',)\n",
        "iss_gdf.plot(ax=base, marker=\"*\", markersize=50, cmap = 'jet');"
      ]
    },
    {
      "cell_type": "code",
      "execution_count": null,
      "id": "1247b75a-04e6-4e3c-a1c1-3538bcb60712",
      "metadata": {
        "id": "1247b75a-04e6-4e3c-a1c1-3538bcb60712"
      },
      "outputs": [],
      "source": [
        "fig, ax = plt.subplots(1, figsize=(20,10))\n",
        "base = world.plot(ax=ax, color='white', edgecolor='black',)\n",
        "iss_gdf[iss_gdf.land_flag==True].plot(\"country\", ax=base);"
      ]
    },
    {
      "cell_type": "code",
      "execution_count": null,
      "id": "2c38429f-df06-4ce9-8c71-e032417ed45b",
      "metadata": {
        "id": "2c38429f-df06-4ce9-8c71-e032417ed45b"
      },
      "outputs": [],
      "source": []
    },
    {
      "cell_type": "markdown",
      "id": "a5061ede-e63a-4650-ac07-be5e8ef8587d",
      "metadata": {
        "id": "a5061ede-e63a-4650-ac07-be5e8ef8587d"
      },
      "source": [
        "# Step 4: Manipulation with MovingPandas"
      ]
    },
    {
      "cell_type": "markdown",
      "id": "553eb3c2-e152-4731-b48a-6409e86bf2eb",
      "metadata": {
        "id": "553eb3c2-e152-4731-b48a-6409e86bf2eb"
      },
      "source": [
        "#### Create the MovingPandas trajectories"
      ]
    },
    {
      "cell_type": "markdown",
      "id": "51dcb21a-1018-460e-aff4-3c7d965dce1a",
      "metadata": {
        "id": "51dcb21a-1018-460e-aff4-3c7d965dce1a"
      },
      "source": [
        "Create a GeoDataFram by specifying the Coordinate Reference System (CRS)"
      ]
    },
    {
      "cell_type": "code",
      "execution_count": null,
      "id": "4271c2a8-56cb-4830-a4be-41448db27031",
      "metadata": {
        "id": "4271c2a8-56cb-4830-a4be-41448db27031"
      },
      "outputs": [],
      "source": [
        "gdf_path = gpd.GeoDataFrame(df, crs={'init': 'epsg:4326'})"
      ]
    },
    {
      "cell_type": "markdown",
      "id": "86402999-4539-4e60-8bc9-f5ae1afb525c",
      "metadata": {
        "id": "86402999-4539-4e60-8bc9-f5ae1afb525c"
      },
      "source": [
        "Create the MovingPandas trajectories"
      ]
    },
    {
      "cell_type": "code",
      "execution_count": null,
      "id": "4fb169f8-556e-44df-b499-53dc7fb11f0f",
      "metadata": {
        "id": "4fb169f8-556e-44df-b499-53dc7fb11f0f"
      },
      "outputs": [],
      "source": [
        "iss_trajc = mpd.TrajectoryCollection(gdf_path,\n",
        "                                 x = \"longitude\", y=\"latitude\",\n",
        "                                 traj_id_col=\"traj_id\", t=\"t\")"
      ]
    },
    {
      "cell_type": "markdown",
      "id": "3d218999-a775-4d38-aa54-4cc777d56682",
      "metadata": {
        "id": "3d218999-a775-4d38-aa54-4cc777d56682"
      },
      "source": [
        "#### Quick plots"
      ]
    },
    {
      "cell_type": "markdown",
      "id": "54e8177b-05e4-425b-9d5a-1a1ac3dd9210",
      "metadata": {
        "id": "54e8177b-05e4-425b-9d5a-1a1ac3dd9210"
      },
      "source": [
        "Simple plot with all the trajectories"
      ]
    },
    {
      "cell_type": "code",
      "execution_count": null,
      "id": "78717700-e4f7-49d7-a2d9-f92c8e923ae8",
      "metadata": {
        "id": "78717700-e4f7-49d7-a2d9-f92c8e923ae8"
      },
      "outputs": [],
      "source": [
        "iss_trajc.plot(column='traj_id', figsize=(10,20));"
      ]
    },
    {
      "cell_type": "markdown",
      "id": "a3858c26-1c61-43f2-abe4-ec66be39d27b",
      "metadata": {
        "id": "a3858c26-1c61-43f2-abe4-ec66be39d27b"
      },
      "source": [
        "Determine the number of trajectories"
      ]
    },
    {
      "cell_type": "code",
      "execution_count": null,
      "id": "fbf12bfe-c520-4fae-866c-5d1d68f2912c",
      "metadata": {
        "id": "fbf12bfe-c520-4fae-866c-5d1d68f2912c"
      },
      "outputs": [],
      "source": [
        "num_trajs = len(iss_trajc.trajectories)\n",
        "print(f\"Number of trajectories: {num_trajs}\")"
      ]
    },
    {
      "cell_type": "markdown",
      "id": "03db477e-e4c1-42a1-a4d1-9cd3cc096b86",
      "metadata": {
        "id": "03db477e-e4c1-42a1-a4d1-9cd3cc096b86"
      },
      "source": [
        "Plot the individual trajectories"
      ]
    },
    {
      "cell_type": "code",
      "execution_count": null,
      "id": "530ee4bb-8dfc-4f75-a4b1-40fa0eb7b79d",
      "metadata": {
        "id": "530ee4bb-8dfc-4f75-a4b1-40fa0eb7b79d"
      },
      "outputs": [],
      "source": [
        "colors = [\"green\", \"red\", \"blue\", \"purple\"]\n",
        "fig, ax = plt.subplots(num_trajs, 1)\n",
        "for i in range(num_trajs):\n",
        "    iss_trajc.trajectories[i].plot(ax=ax[i], color=colors[i])"
      ]
    },
    {
      "cell_type": "markdown",
      "id": "a2a32b69-3744-4657-bc38-dd83bf46926b",
      "metadata": {
        "id": "a2a32b69-3744-4657-bc38-dd83bf46926b"
      },
      "source": [
        "#### Include Weather Data"
      ]
    },
    {
      "cell_type": "code",
      "execution_count": null,
      "id": "e37dc86e-5250-45cb-8241-e3bf09b5b9c0",
      "metadata": {
        "id": "e37dc86e-5250-45cb-8241-e3bf09b5b9c0"
      },
      "outputs": [],
      "source": [
        "fig, ax = plt.subplots(1, figsize=(20,10))\n",
        "base = world.plot(ax=ax, color='white', edgecolor='black',)\n",
        "iss_trajc.trajectories[0].plot(ax=base, legend=\"true\", column=\"temperature\", cmap='jet')"
      ]
    },
    {
      "cell_type": "code",
      "execution_count": null,
      "id": "a54ae437-28f8-4867-80cb-0f52583fc3be",
      "metadata": {
        "id": "a54ae437-28f8-4867-80cb-0f52583fc3be"
      },
      "outputs": [],
      "source": [
        "fig, ax = plt.subplots(1, figsize=(20,10))\n",
        "base = world.plot(ax=ax, color='white', edgecolor='black',)\n",
        "iss_trajc.trajectories[1].plot(ax=base, legend=\"true\", column=\"temperature\", cmap='jet')"
      ]
    },
    {
      "cell_type": "code",
      "execution_count": null,
      "id": "bbb6631c-13f9-45e4-8da4-a7cc9888d1de",
      "metadata": {
        "id": "bbb6631c-13f9-45e4-8da4-a7cc9888d1de"
      },
      "outputs": [],
      "source": [
        "fig, ax = plt.subplots(1, figsize=(20,10))\n",
        "base = world.plot(ax=ax, color='white', edgecolor='black',)\n",
        "iss_trajc.trajectories[2].plot(ax=base, legend=\"true\", column=\"temperature\", cmap='jet')"
      ]
    },
    {
      "cell_type": "markdown",
      "id": "33d78d58-2834-4fdc-934d-79806d6f8458",
      "metadata": {
        "id": "33d78d58-2834-4fdc-934d-79806d6f8458"
      },
      "source": [
        "#### Create interactive plots with weather data"
      ]
    },
    {
      "cell_type": "code",
      "execution_count": null,
      "id": "856076a4-170d-4db3-8db0-3f22c211011b",
      "metadata": {
        "id": "856076a4-170d-4db3-8db0-3f22c211011b"
      },
      "outputs": [],
      "source": [
        "iss_trajc.trajectories[1].hvplot(c=\"windspeed\", tiles=\"OSM\")"
      ]
    },
    {
      "cell_type": "code",
      "execution_count": null,
      "id": "6ec449bc-6377-4c1f-a7c6-f92cf5b22dc3",
      "metadata": {
        "id": "6ec449bc-6377-4c1f-a7c6-f92cf5b22dc3"
      },
      "outputs": [],
      "source": []
    },
    {
      "cell_type": "code",
      "execution_count": null,
      "id": "160a57fe-f6f2-4ae8-a0f3-82aa069db1bf",
      "metadata": {
        "id": "160a57fe-f6f2-4ae8-a0f3-82aa069db1bf"
      },
      "outputs": [],
      "source": [
        "gdf_path2 = gpd.GeoDataFrame(df[df.land_flag==True], crs={'init': 'epsg:4326'})\n",
        "iss_trajc2 = mpd.TrajectoryCollection(gdf_path2,\n",
        "                                 x = \"longitude\", y=\"latitude\",\n",
        "                                 traj_id_col=\"traj_id\", t=\"t\")"
      ]
    },
    {
      "cell_type": "code",
      "execution_count": null,
      "id": "ac866076-ab7e-4a53-a6a7-8f2801217e41",
      "metadata": {
        "id": "ac866076-ab7e-4a53-a6a7-8f2801217e41"
      },
      "outputs": [],
      "source": [
        "iss_trajc2.plot(column='traj_id', figsize=(10,20));"
      ]
    },
    {
      "cell_type": "code",
      "execution_count": null,
      "id": "8f483045-48be-4d88-bc8b-156c45e793a0",
      "metadata": {
        "id": "8f483045-48be-4d88-bc8b-156c45e793a0"
      },
      "outputs": [],
      "source": []
    }
  ],
  "metadata": {
    "kernelspec": {
      "display_name": "Python 3 (ipykernel)",
      "language": "python",
      "name": "python3"
    },
    "language_info": {
      "codemirror_mode": {
        "name": "ipython",
        "version": 3
      },
      "file_extension": ".py",
      "mimetype": "text/x-python",
      "name": "python",
      "nbconvert_exporter": "python",
      "pygments_lexer": "ipython3",
      "version": "3.11.4"
    },
    "colab": {
      "provenance": [],
      "include_colab_link": true
    }
  },
  "nbformat": 4,
  "nbformat_minor": 5
}